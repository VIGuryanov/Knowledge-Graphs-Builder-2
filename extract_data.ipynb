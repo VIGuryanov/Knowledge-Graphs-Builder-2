{
 "cells": [
  {
   "cell_type": "code",
   "execution_count": 1,
   "metadata": {},
   "outputs": [],
   "source": [
    "import requests\n",
    "import json\n",
    "from bs4 import BeautifulSoup \n",
    "import re"
   ]
  },
  {
   "cell_type": "code",
   "execution_count": null,
   "metadata": {},
   "outputs": [],
   "source": [
    "#find all ITIS employees from kpfu site\n",
    "body = {\n",
    "    ('p_sub', (None, 7860)),\n",
    "    ('p_id', (None, 10857)),\n",
    "    ('p_rec_count', (None, 0))\n",
    "}\n",
    "url = \"https://kpfu.ru/main_page\"\n",
    "response = requests.post(url, files=body)\n",
    "\n",
    "page = BeautifulSoup(response.text, 'lxml')\n",
    "count = page.find('div', id='ss_content').find_all('div', recursive=False)[1].find('table').text\n",
    "count = int(re.search(r'\\d+', re.search(r'НАЙДЕНО \\d+ СОТРУДНИКОВ', count)[0])[0])+5\n",
    "\n",
    "body = {\n",
    "    ('p_sub', (None, 7860)),\n",
    "    ('p_id', (None, 10857)),\n",
    "    ('p_rec_count', (None, count)),\n",
    "    ('p_order', (None, 1)),\n",
    "}\n",
    "url = \"https://kpfu.ru/main_page\"\n",
    "response = requests.post(url, files=body)\n",
    "\n",
    "page = BeautifulSoup(response.text, 'lxml')\n",
    "persons = page.find('div', id='ss_content').find_all('div', recursive=False)[1].find_all('table')[1].find_all('tr')\n",
    "persons = map(lambda x: x.find('span', class_='fio').text, persons)\n",
    "persons = list(map(str.strip, persons))\n",
    "\n"
   ]
  },
  {
   "cell_type": "code",
   "execution_count": null,
   "metadata": {},
   "outputs": [],
   "source": [
    "with open('files/persons.txt', 'w', encoding='utf-8') as f:\n",
    "    json.dump({'persons': persons}, f, ensure_ascii=False)"
   ]
  },
  {
   "cell_type": "code",
   "execution_count": 22,
   "metadata": {},
   "outputs": [],
   "source": [
    "cookie = '_ym_uid=1723625929764409548; _ym_d=1741671054; __utma=216042306.833214236.1741671054.1741767536.1741781916.3; _ym_isad=2; 216042306.1741671054.1.1.utmcsr=(direct)|utmccn=(direct)|utmcmd=(none); SUserID=604797893; SCookieGUID=6FFBB8F5%2DD107%2D401B%2DAB04%2D81BB3FBE7DB9; __utmc=216042306; __utmb=216042306.2.10.1741781916; __utmz=216042306.1741781916.3.1.utmcsr=(direct)|utmccn=(direct)|utmcmd=(none); __utmt=1'\n",
    "headers = {'User-Agent': 'Mozilla/5.0 (Windows NT 10.0; Win64; x64) AppleWebKit/537.36 (KHTML, like Gecko) Chrome/122.0.0.0 Safari/537.36',\n",
    "    'Cookie': cookie}"
   ]
  },
  {
   "cell_type": "code",
   "execution_count": 3,
   "metadata": {},
   "outputs": [],
   "source": [
    "authors = []"
   ]
  },
  {
   "cell_type": "code",
   "execution_count": 3,
   "metadata": {},
   "outputs": [],
   "source": [
    "import time"
   ]
  },
  {
   "cell_type": "code",
   "execution_count": 4,
   "metadata": {},
   "outputs": [],
   "source": [
    "def check_captcha(page):\n",
    "    return not page.find('div', class_='g-recaptcha') is None"
   ]
  },
  {
   "cell_type": "code",
   "execution_count": null,
   "metadata": {},
   "outputs": [
    {
     "name": "stdout",
     "output_type": "stream",
     "text": [
      "req Wed Mar 12 11:28:01 2025 aaaa\n"
     ]
    }
   ],
   "source": [
    "#find author on elibrary and get elibrary id\n",
    "for person in persons:\n",
    "    url = f\"https://www.elibrary.ru/authors.asp?codetype=SPIN&sortorder=2&metrics=1&orgid=198&surname={person}&order=0\"\n",
    "    print(f\"req {time.ctime()} {person}\")\n",
    "    response = requests.get(url, headers=headers)\n",
    "    page = BeautifulSoup(response.text, 'lxml')\n",
    "\n",
    "    if check_captcha(page):\n",
    "        print(f'{time.ctime()} Captcha')\n",
    "        break\n",
    "        time.sleep(60)\n",
    "\n",
    "    result = page.find('table', id='restab')\n",
    "    if not result is None:\n",
    "        author = result.find_all('tr', recursive=False)[3:][0].get('id')\n",
    "        authors.append(author)        \n",
    "        with open('files/authors.txt', 'a', encoding='utf-8') as f:\n",
    "            f.write(f'{person}:{author}\\n')\n",
    "\n",
    "    persons = persons[1:]\n",
    "    time.sleep(20)"
   ]
  },
  {
   "cell_type": "code",
   "execution_count": null,
   "metadata": {},
   "outputs": [],
   "source": [
    "with open('files/authors.txt', 'r', encoding='utf-8') as f:\n",
    "    authors = list(map(lambda x: x.split(':'), [line.rstrip() for line in f]))\n",
    "\n",
    "authors_json = {'authors' : {}}\n",
    "for author in authors:\n",
    "    authors_json['authors'][author[1]] = {}\n",
    "    authors_json['authors'][author[1]]['name'] = author[0]"
   ]
  },
  {
   "cell_type": "code",
   "execution_count": 23,
   "metadata": {},
   "outputs": [],
   "source": [
    "headers = {'User-Agent': 'Mozilla/5.0 (Windows NT 10.0; Win64; x64) AppleWebKit/537.36 (KHTML, like Gecko) Chrome/122.0.0.0 Safari/537.36',\n",
    "    'Cookie': cookie}"
   ]
  },
  {
   "cell_type": "code",
   "execution_count": 24,
   "metadata": {},
   "outputs": [
    {
     "data": {
      "text/plain": [
       "{'authors': {'a1189828': {'name': 'Аббясов Булат Ривалевич',\n",
       "   'publications': []},\n",
       "  'a521475': {'name': 'Абрамский Михаил Михайлович'},\n",
       "  'a825443': {'name': 'Агафонов Александр Алексеевич'},\n",
       "  'a1146602': {'name': 'Алимова Ильсеяр Салимовна'},\n",
       "  'a1236949': {'name': 'Апурин Артем Александрович'},\n",
       "  'a1209572': {'name': 'Большаков Эдуард Сергеевич'},\n",
       "  'a1217686': {'name': 'Валишин Искандер Айратович'},\n",
       "  'a646549': {'name': 'Галлямова Динара Хамитовна'},\n",
       "  'a295287': {'name': 'Гарипов Ильнур Бурханович'},\n",
       "  'a609739': {'name': 'Голицына Ирина Николаевна'},\n",
       "  'a303678': {'name': 'Григорян Карен Альбертович'},\n",
       "  'a305468': {'name': 'Гузельбаева Гузель Яхиевна'},\n",
       "  'a111026': {'name': 'Гусенков Александр Михайлович'},\n",
       "  'a1175220': {'name': 'Доброквашина Александра Сергеевна'},\n",
       "  'a2521': {'name': 'Елизаров Александр Михайлович'},\n",
       "  'a1210222': {'name': 'Еникеева Аделя Искандеровна'},\n",
       "  'a1192611': {'name': 'Жукова Валерия Юрьевна'},\n",
       "  'a1261831': {'name': 'Загиров Айдар Ильнурович'},\n",
       "  'a621417': {'name': 'Зуев Денис Сергеевич'},\n",
       "  'a1147816': {'name': 'Кислов Кирилл Алексеевич'},\n",
       "  'a940041': {'name': 'Коростелева Диана Маратовна'},\n",
       "  'a127963': {'name': 'Кугуракова Влада Владимировна'},\n",
       "  'a899016': {'name': 'Лавренов Роман Олегович'},\n",
       "  'a920841': {'name': 'Лаврентьева Елена Евгеньевна'},\n",
       "  'a9449': {'name': 'Лернер Эдуард Юльевич'},\n",
       "  'a1136164': {'name': 'Леухин Алексей Дмитриевич'},\n",
       "  'a10719': {'name': 'Липачев Евгений Константинович'},\n",
       "  'a731439': {'name': 'Магид Евгений Аркадьевич'},\n",
       "  'a64881': {'name': 'Максютин Сергей Владимирович'},\n",
       "  'a168785': {'name': 'Мулюков Рустем Ирекович'},\n",
       "  'a1098445': {'name': 'Мухамеджанов Амир Исмаилович'},\n",
       "  'a1112862': {'name': 'Мухутдинов Тимерхан Аглямович'},\n",
       "  'a1000699': {'name': 'Нурлыгаянов Никита Рамильевич'},\n",
       "  'a126590': {'name': 'Осокин Сергей Игоревич'},\n",
       "  'a1206920': {'name': 'Садыкова Регина Айратовна'},\n",
       "  'a17724': {'name': 'Салимов Фарид Ибрагимович'},\n",
       "  'a796976': {'name': 'Самсонова Екатерина Сергеевна'},\n",
       "  'a1000499': {'name': 'Сафин Рамиль Набиуллович'},\n",
       "  'a435809': {'name': 'Сингатуллина Гузель Рафиковна'},\n",
       "  'a7541': {'name': 'Соловьев Валерий Дмитриевич'},\n",
       "  'a899015': {'name': 'Таланов Максим Олегович'},\n",
       "  'a772082': {'name': 'Тощев Александр Сергеевич'},\n",
       "  'a1062917': {'name': 'Ференец Александр Андреевич'},\n",
       "  'a848491': {'name': 'Хадиев Камиль Равилевич'},\n",
       "  'a799544': {'name': 'Хадиева Алия Ихсановна'},\n",
       "  'a142739': {'name': 'Хайруллин Альфред Фаридович'},\n",
       "  'a797301': {'name': 'Хафизов Мурад Рустэмович'},\n",
       "  'a1110825': {'name': 'Цой Татьяна Григорьевна'},\n",
       "  'a528931': {'name': 'Чеботарева Эльвира Валерьевна'},\n",
       "  'a1037593': {'name': 'Шахова Ирина Сергеевна'},\n",
       "  'a644906': {'name': 'Шемахин Александр Юрьевич'},\n",
       "  'a7854': {'name': 'Широкова Елена Александровна'},\n",
       "  'a1206932': {'name': 'Шубин Алексей Витальевич'}}}"
      ]
     },
     "execution_count": 24,
     "metadata": {},
     "output_type": "execute_result"
    }
   ],
   "source": [
    "authors_json"
   ]
  },
  {
   "cell_type": "code",
   "execution_count": 25,
   "metadata": {},
   "outputs": [],
   "source": [
    "to_iterate = list(authors_json['authors'].keys())"
   ]
  },
  {
   "cell_type": "code",
   "execution_count": null,
   "metadata": {},
   "outputs": [
    {
     "name": "stdout",
     "output_type": "stream",
     "text": [
      "req Wed Mar 12 15:49:26 2025 Хайруллин Альфред Фаридович\n",
      "req Wed Mar 12 15:49:47 2025 Хафизов Мурад Рустэмович\n",
      "req Wed Mar 12 15:50:08 2025 Цой Татьяна Григорьевна\n",
      "req Wed Mar 12 15:50:29 2025 Чеботарева Эльвира Валерьевна\n",
      "req Wed Mar 12 15:50:51 2025 Шахова Ирина Сергеевна\n",
      "req Wed Mar 12 15:51:11 2025 Шемахин Александр Юрьевич\n",
      "req Wed Mar 12 15:51:33 2025 Широкова Елена Александровна\n",
      "req Wed Mar 12 15:51:55 2025 Шубин Алексей Витальевич\n"
     ]
    }
   ],
   "source": [
    "#get publications of found authors\n",
    "import math\n",
    "\n",
    "for author in to_iterate:\n",
    "    authors_json['authors'][author]['publications'] = []\n",
    "    print(f\"req {time.ctime()} {authors_json['authors'][author]['name']}\")\n",
    "    url = f\"https://www.elibrary.ru/author_items.asp?authorid={author[1:]}&pubrole=100&show_refs=1&show_option=0&order=1\"\n",
    "    response = requests.get(url, headers=headers)\n",
    "    page = BeautifulSoup(response.text, 'lxml')\n",
    "\n",
    "    if check_captcha(page):\n",
    "        print(f'{time.ctime()} Captcha')\n",
    "        break\n",
    "    \n",
    "    try:\n",
    "        count = int(page.find('td', class_='redref').find('b').text)\n",
    "        num_pages = math.ceil(count / 100)\n",
    "\n",
    "    except Exception as e:\n",
    "        break\n",
    "    \n",
    "    time.sleep(20)\n",
    "    for i in range(1, num_pages + 1):\n",
    "        if i != 1:\n",
    "            url = f\"https://www.elibrary.ru/author_items.asp?pubrole=100&authorid={author[1:]}&order=1&pagenum={i}\"\n",
    "            response = requests.get(url, headers=headers)\n",
    "            page = BeautifulSoup(response.text, 'lxml')\n",
    "\n",
    "            if check_captcha(page):\n",
    "                print(f'{time.ctime()} Captcha')\n",
    "                break\n",
    "\n",
    "            time.sleep(20)\n",
    "\n",
    "        trs = page.find('table', id='restab').find_all('tr')[3:]\n",
    "        for t in trs:\n",
    "            authors_json['authors'][author]['publications'].append({})\n",
    "            authors_json['authors'][author]['publications'][-1]['id'] = t.get('id')\n",
    "            authors_json['authors'][author]['publications'][-1]['name'] = ''\n",
    "            authors_json['authors'][author]['publications'][-1]['journal'] = ''\n",
    "            try:\n",
    "                authors_json['authors'][author]['publications'][-1]['name'] = t.find_all('span')[1].text\n",
    "                authors_json['authors'][author]['publications'][-1]['journal'] = t.find_all('td')[1].find_all('font')[1].text.replace('\\xa0', ' ').replace('\\r', '').replace('\\n', '')\n",
    "            except:\n",
    "                pass\n",
    "    \n",
    "    if check_captcha(page):\n",
    "        break\n",
    "    \n",
    "    to_iterate = to_iterate[1:]"
   ]
  },
  {
   "cell_type": "code",
   "execution_count": null,
   "metadata": {},
   "outputs": [],
   "source": [
    "with open('files/publications.txt', 'w', encoding='utf-8') as f:\n",
    "    json.dump(authors_json, f, ensure_ascii=False)"
   ]
  }
 ],
 "metadata": {
  "kernelspec": {
   "display_name": ".venv",
   "language": "python",
   "name": "python3"
  },
  "language_info": {
   "codemirror_mode": {
    "name": "ipython",
    "version": 3
   },
   "file_extension": ".py",
   "mimetype": "text/x-python",
   "name": "python",
   "nbconvert_exporter": "python",
   "pygments_lexer": "ipython3",
   "version": "3.12.3"
  }
 },
 "nbformat": 4,
 "nbformat_minor": 2
}
